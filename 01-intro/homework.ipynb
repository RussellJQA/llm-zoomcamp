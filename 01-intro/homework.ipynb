{
 "cells": [
  {
   "cell_type": "code",
   "execution_count": 5,
   "id": "8d7d6ddd-0c2d-44ea-8f2c-4b989f1cc876",
   "metadata": {},
   "outputs": [],
   "source": [
    "import os"
   ]
  },
  {
   "cell_type": "code",
   "execution_count": 6,
   "id": "a25337fc-afad-48c8-aeff-72e5dadb21f6",
   "metadata": {},
   "outputs": [],
   "source": [
    "api_key = os.getenv(\"OPENAI_API_KEY\")"
   ]
  },
  {
   "cell_type": "code",
   "execution_count": 7,
   "id": "9fc7615a-3f43-4d64-b5a5-5d073e209022",
   "metadata": {},
   "outputs": [],
   "source": [
    "import openai"
   ]
  },
  {
   "cell_type": "code",
   "execution_count": 8,
   "id": "9d4e3ffc-e899-4beb-bf61-8fb0bc155ec4",
   "metadata": {},
   "outputs": [],
   "source": [
    "from openai import OpenAI"
   ]
  },
  {
   "cell_type": "code",
   "execution_count": 9,
   "id": "de4071e3-29a4-423c-8656-b9641b747260",
   "metadata": {},
   "outputs": [],
   "source": [
    "client = OpenAI(api_key=api_key)"
   ]
  },
  {
   "cell_type": "code",
   "execution_count": 11,
   "id": "1fc87c40-3f82-4308-b408-3f11a591d11e",
   "metadata": {},
   "outputs": [],
   "source": [
    "response = client.chat.completions.create(\n",
    "    model='gpt-4o',\n",
    "    messages=[{\"role\": \"user\", \"content\": \"is it too late to join the course?\"}]\n",
    ")"
   ]
  },
  {
   "cell_type": "code",
   "execution_count": 15,
   "id": "b2c21e52-e68c-4bc4-9021-5044b64f29d0",
   "metadata": {},
   "outputs": [
    {
     "data": {
      "text/plain": [
       "\"To determine if it's too late to join a course, you'll need to consider several factors:\\n\\n1. **Enrollment Deadline:** Check if the course has a specific enrollment deadline. Many courses have a cutoff date after which no new students are accepted.\\n\\n2. **Add/Drop Period:** Some educational institutions have an add/drop period at the start of the semester or term during which you can still join courses. \\n\\n3. **Course Progression:** Evaluate how far the course has progressed. If the course is well underway, it might be challenging to catch up, especially if there is a lot of material to cover or if assignments have already been submitted.\\n\\n4. **Instructor's Policy:** Contact the instructor or course coordinator. They can provide information on whether it’s feasible to join late and if any special arrangements can be made for you to catch up.\\n\\n5. **Availability of Resources:** Ensure that you have access to the course materials, such as recorded lectures or notes, and any other resources you may need to get up to speed.\\n\\n6. **Your Schedule and Capability:** Consider whether you have the time and ability to catch up on missed work and keep pace with the ongoing course load.\\n\\nEvaluate these factors to make an informed decision. If possible, reach out to the relevant institution or individuals directly involved with the course for the most accurate and personalized advice.\""
      ]
     },
     "execution_count": 15,
     "metadata": {},
     "output_type": "execute_result"
    }
   ],
   "source": [
    "response.choices[0].message.content"
   ]
  },
  {
   "cell_type": "code",
   "execution_count": null,
   "id": "408c76c9-8771-4f1e-97d6-1b46c9ae7a5e",
   "metadata": {},
   "outputs": [],
   "source": []
  }
 ],
 "metadata": {
  "kernelspec": {
   "display_name": "Python 3 (ipykernel)",
   "language": "python",
   "name": "python3"
  },
  "language_info": {
   "codemirror_mode": {
    "name": "ipython",
    "version": 3
   },
   "file_extension": ".py",
   "mimetype": "text/x-python",
   "name": "python",
   "nbconvert_exporter": "python",
   "pygments_lexer": "ipython3",
   "version": "3.12.1"
  }
 },
 "nbformat": 4,
 "nbformat_minor": 5
}
